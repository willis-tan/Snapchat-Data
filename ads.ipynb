{
 "cells": [
  {
   "cell_type": "markdown",
   "metadata": {},
   "source": [
    "# Authors\n",
    "* Willis Tan\n",
    "* Alice Lue"
   ]
  },
  {
   "cell_type": "markdown",
   "metadata": {},
   "source": [
    "# Summary of Findings\n",
    "\n",
    "\n",
    "### Introduction\n",
    "The prediction problem we are attempting is predicting the reach (number of views) of an ad. This is a regression problem. For the baseline model, we are using the variables Duration and Spend to predict Impressions. These 2 variables seem to have the largest effect on Impressions. If the ad played for a longer time, by convention, it would have a higher number of Impressions. Also, if the spend on the ad was higher, then the ad would be expected to reach more viewers. We used R^2 to evalutate the accuracy of our predictions and trained 100 models to evaluate the variance fo the scores. For our improved model, we used the variables Duration, Spend, NumberInterestGroups, and CountryCode to predict Impressions. We used NumberInterestGroups because if the ad targeted specific interest groups, then the ad would be expected to reach less viewers than ads who target all viewers. We also used CountryCode because ads in countries with a larger population would be expected to gain more views. To evaluate the accuracy, we used R^2 and trained 100 models to evaluate the variance fo the scores.\n",
    "\n",
    "### Baseline Model\n",
    "For the baseline model, we are using 2 columns (spend and duration) as our features. These features are all quantitative. For this model we used LinearRegression to model. As a result, we got a total score of 0.7, but when we  used the cross_val_score function to generate 100 models to test the variance of the model there was a very high variance found using the current model, therefore the model we currently have is not good.\n",
    "\n",
    "### Final Model\n",
    "For our improved model, we used CountryCode and NumberInterestGroups. These 2 columns were originally ordinal, but we transformed them into quantitative variables. For the CountryCode, we changed the country code to its corresponding population. Countries with a greater population are expected to have more views. For the NumberInterestGroups, we derived it from the Interests column, by spliting each value by a comma to determine how many interests each ad targeted. Ads with more interests being targeted are expected to have more views. We also transformed all the quantitative features using SimpleIMputer to fill in null values with 0.Then we used a PolynomialTransformer on Spend, since Spend impacts Impressions exponentially. To select the best model, we created four different models and calculated the scores of the 4 models. We used the RandomForestRegressor as our model, because even though DecisionTreeRegressor yielded a higher score, the variance using that model was significantly higher than using the RandomForestRegressor. \n",
    "\n",
    "### Fairness Evaluation\n",
    "For the fairness evaluation, we decided to test the model against ads whose expenditures were in the top 10% and bottom 10%. Essentially, we want to see if the model has any bias towards ads that spend more or vice-versa. \n",
    "\n",
    "The test statistic that we will use for our permutation test is the absolute difference between the RMSE of both subsets.The significance level of our permutation test is 0.01. \n",
    "\n",
    "__Null Hypothesis__: The absolute difference between the RMSE of the groups is zero.  \n",
    "__Alternate Hypothesis__: The absolute difference between the RMSE of the groups is greater than zero.  \n",
    "\n",
    "Our observed statistic is 487862.15326733753.  \n",
    "\n",
    "We used 1000 as the number of permutations needed for the test. After 1000 permutations, we computed the number ofstatistics that were greater than our observed statistic and calculated the mean. This resulted in a p-value of 0.0. Since 0.0 < 0.01, we reject the null hypothesis. Thus, there is suggestion that our Random Forest model does not predict fairly for both subsets."
   ]
  },
  {
   "cell_type": "markdown",
   "metadata": {},
   "source": [
    "# Code"
   ]
  },
  {
   "cell_type": "code",
   "execution_count": 1,
   "metadata": {
    "scrolled": true
   },
   "outputs": [],
   "source": [
    "import matplotlib.pyplot as plt\n",
    "import numpy as np\n",
    "import os\n",
    "import pandas as pd\n",
    "import seaborn as sns\n",
    "from sklearn.linear_model import LinearRegression, LogisticRegression\n",
    "from sklearn.model_selection import train_test_split\n",
    "from sklearn.pipeline import Pipeline\n",
    "from sklearn.model_selection import cross_val_score\n",
    "from sklearn.tree import DecisionTreeRegressor\n",
    "from sklearn.neighbors import KNeighborsRegressor\n",
    "from sklearn.compose import ColumnTransformer\n",
    "from sklearn.decomposition import PCA\n",
    "from sklearn.preprocessing import OneHotEncoder\n",
    "from sklearn.preprocessing import OrdinalEncoder\n",
    "from sklearn.impute import SimpleImputer\n",
    "from sklearn.preprocessing import PolynomialFeatures\n",
    "from sklearn.ensemble import RandomForestRegressor\n",
    "from sklearn.model_selection import GridSearchCV\n",
    "%matplotlib inline\n",
    "%config InlineBackend.figure_format = 'retina'  # Higher resolution figures"
   ]
  },
  {
   "cell_type": "markdown",
   "metadata": {},
   "source": [
    "### Baseline Model\n",
    "We converted StartDate and EndDate into a feature that showed the duration of the ad in hours."
   ]
  },
  {
   "cell_type": "code",
   "execution_count": 2,
   "metadata": {
    "scrolled": true
   },
   "outputs": [],
   "source": [
    "ads_18 = pd.read_csv(\"PoliticalAds2018.csv\")\n",
    "ads_19 = pd.read_csv(\"PoliticalAds2019.csv\")\n",
    "ads_18[\"StartDate\"] = pd.to_datetime(ads_18[\"StartDate\"])\n",
    "ads_19[\"StartDate\"] = pd.to_datetime(ads_19[\"StartDate\"])\n",
    "ads_18[\"EndDate\"] = pd.to_datetime(ads_18[\"EndDate\"])\n",
    "ads_19[\"EndDate\"] = pd.to_datetime(ads_19[\"EndDate\"])\n",
    "\n",
    "idx_18 = ads_18.EndDate < ads_18.StartDate\n",
    "ads_18.loc[idx_18] = ads_18.loc[idx_18].rename(columns={'EndDate':'StartDate','StartDate':'EndDate'})\n",
    "idx_19 = ads_19.EndDate < ads_19.StartDate\n",
    "ads_19.loc[idx_19] = ads_19.loc[idx_19].rename(columns={'EndDate':'StartDate','StartDate':'EndDate'})\n",
    "\n",
    "avg_runtime_18 = (ads_18.EndDate - ads_18.StartDate).mean()\n",
    "avg_runtime_19 = (ads_19.EndDate - ads_19.StartDate).mean()\n",
    "ads_18.EndDate = ads_18.EndDate.fillna(avg_runtime_18 + ads_18.StartDate)\n",
    "ads_19.EndDate = ads_19.EndDate.fillna(avg_runtime_19 + ads_19.StartDate)\n",
    "df = pd.concat([ads_18,ads_19], ignore_index=True)\n",
    "df['Duration'] = df.EndDate - df.StartDate\n",
    "\n",
    "not_needed = ['OrganizationName', 'BillingAddress',\n",
    "               'CandidateBallotInformation', 'PayingAdvertiserName', \n",
    "               'CountryCode', 'Regions (Included)', 'Regions (Excluded)',\n",
    "               'Electoral Districts (Included)', 'Electoral Districts (Excluded)',\n",
    "               'Radius Targeting (Included)', 'Radius Targeting (Excluded)',\n",
    "               'Metros (Included)', 'Metros (Excluded)', 'Postal Codes (Included)',\n",
    "               'Postal Codes (Excluded)', 'Location Categories (Included)',\n",
    "               'Location Categories (Excluded)', 'Targeting Connection Type', 'Targeting Carrier (ISP)']\n",
    "\n",
    "df2 = df.drop(not_needed, axis = 1)\n",
    "hours = df2.Duration.astype('timedelta64[h]')\n",
    "df2['Duration'] = hours\n",
    "df2 = df2.drop('StartDate', axis = 1)\n",
    "df2 = df2.drop('EndDate', axis = 1)"
   ]
  },
  {
   "cell_type": "markdown",
   "metadata": {},
   "source": [
    "We separated the columns that were objects with columns that weren't objects."
   ]
  },
  {
   "cell_type": "code",
   "execution_count": 3,
   "metadata": {
    "scrolled": true
   },
   "outputs": [
    {
     "data": {
      "text/plain": [
       "Spend         int64\n",
       "Duration    float64\n",
       "dtype: object"
      ]
     },
     "execution_count": 3,
     "metadata": {},
     "output_type": "execute_result"
    }
   ],
   "source": [
    "types = df2[[\"Spend\",\"Duration\"]].dtypes\n",
    "catcols = types.loc[types == np.object].index\n",
    "numcols = types.loc[types != np.object].index\n",
    "types"
   ]
  },
  {
   "cell_type": "markdown",
   "metadata": {},
   "source": [
    "This is our baseline model. We used SimpleImputer, OneHotEncoder and PCA to handle all the categorical variables. We filled in all the null values with NULL. For the quantititaive variables we used SimpleImputer to fill all the null values with zero. Lastly, we used LinearRegression as our model. We ended up with a score of 0.71"
   ]
  },
  {
   "cell_type": "code",
   "execution_count": 4,
   "metadata": {
    "scrolled": true
   },
   "outputs": [
    {
     "data": {
      "text/plain": [
       "0.7094744225346112"
      ]
     },
     "execution_count": 4,
     "metadata": {},
     "output_type": "execute_result"
    }
   ],
   "source": [
    "cats = Pipeline([\n",
    "    ('imp', SimpleImputer(strategy='constant', fill_value='NULL')),\n",
    "    ('ohe', OneHotEncoder(handle_unknown='ignore', sparse=False)),\n",
    "    ('pca', PCA(svd_solver='full', n_components=0.99))\n",
    "])\n",
    "\n",
    "ct = ColumnTransformer([\n",
    "    ('catcols', cats, catcols),\n",
    "    ('numcols', SimpleImputer(strategy='constant', fill_value=0), numcols)\n",
    "])\n",
    "\n",
    "b_pl = Pipeline([('feats', ct), ('reg', LinearRegression())])\n",
    "b_pl.fit(df2[['Spend', 'Duration']], df2.Impressions)\n",
    "preds = b_pl.predict(df2[['Spend', 'Duration']])\n",
    "np.sqrt(np.mean((preds - df2.Impressions)**2))\n",
    "b_pl.score(df2[['Spend', 'Duration']], df2.Impressions)"
   ]
  },
  {
   "cell_type": "markdown",
   "metadata": {},
   "source": [
    "We found scores in 100 models with different sample of data to determine the variance of our baseline model."
   ]
  },
  {
   "cell_type": "code",
   "execution_count": 5,
   "metadata": {
    "scrolled": true
   },
   "outputs": [],
   "source": [
    "out=[]\n",
    "for _ in range(100):\n",
    "    X_tr, X_ts, y_tr, y_ts = train_test_split(df2[['Spend',\"Duration\"]], df2.Impressions,test_size=4)\n",
    "    b_pl.fit(X_tr,y_tr)\n",
    "    out.append(b_pl.score(X_ts,y_ts))"
   ]
  },
  {
   "cell_type": "code",
   "execution_count": 6,
   "metadata": {
    "scrolled": true
   },
   "outputs": [
    {
     "data": {
      "image/png": "[encoded data removed]",
      "text/plain": [
       "<Figure size 432x288 with 1 Axes>"
      ]
     },
     "metadata": {
      "image/png": {
       "height": 263,
       "width": 382
      },
      "needs_background": "light"
     },
     "output_type": "display_data"
    }
   ],
   "source": [
    "pd.Series(out).plot(kind='hist', title='scores in 100 model builds');"
   ]
  },
  {
   "cell_type": "markdown",
   "metadata": {},
   "source": [
    "The variance is very high, therefore this baseline model is not good."
   ]
  },
  {
   "cell_type": "markdown",
   "metadata": {},
   "source": [
    "### Final Model"
   ]
  },
  {
   "cell_type": "markdown",
   "metadata": {},
   "source": [
    "These are all the feature transformations for the improved model. We converted Interest columns into a quantitative column thatrepresents the number of interests targeted by the ad. We converted Spend to USD dollars, so that spend is standardized. Wealso converted CountryCode to its corresponding population value. Lastly, we dropped data that were outliers."
   ]
  },
  {
   "cell_type": "code",
   "execution_count": 7,
   "metadata": {
    "scrolled": true
   },
   "outputs": [],
   "source": [
    "df2['NumberInterestGroups'] = df2[\"Interests\"].str.split(\",\").fillna(\"\").apply(lambda x: len(x))\n",
    "def convert_to_usd(row):\n",
    "    x = row['Currency Code']\n",
    "    y = row['Spend']\n",
    "    rates = {'CAD': 0.71774,\n",
    "             'USD': 1,\n",
    "             'AUD': 0.65254,\n",
    "             'GBP': 1.23979,\n",
    "             'EUR': 1.08331}\n",
    "    return int(round(rates[x] * y))\n",
    "df2.Spend = df.apply(convert_to_usd, axis=1)\n",
    "df2 = df2.drop(['Currency Code'], axis = 1)\n",
    "\n",
    "pops = {\"netherlands\":17.28, \"united states\": 328.2, \"denmark\": 5.806, \n",
    "        \"norway\": 5.368, \"switzerland\": 8.57, \"canada\": 37.59,\n",
    "        \"ireland\": 4.904, \"france\": 66.99, \"united kingdom\": 66.65,\n",
    "        \"nigeria\": 195.9, \"sweden\": 10.23, \"australia\": 24.99,\n",
    "        \"finland\": 5.518, \"india\": 1353, \"united arab emirates\": 9.631,\n",
    "        \"germany\": 83.02, \"argentina\": 44.49, \"turkey\": 82,\n",
    "        \"south africa\": 57.78, \"kuwait\": 4.137, \"lithuania\": 2.794,\n",
    "        \"new zealand\": 4.886, \"poland\": 37.97, \"brazil\": 209.5,\n",
    "        \"puerto rico\": 3.194, \"chile\": 18.73, \"iraq\": 38.43,\n",
    "        \"belgium\": 11.46, \"austria\": 24.99}\n",
    "\n",
    "df2[\"CountryCode\"] = df[\"CountryCode\"].map(pops)\n",
    "df2 = df2[[\"Spend\", \"Impressions\", \"CountryCode\", \"Duration\", \"NumberInterestGroups\"]]\n",
    "df2 = df2[df2[\"Duration\"] > 0]\n",
    "df2 = df2[df2[\"Impressions\"] < df2[\"Impressions\"].quantile(0.98)] # Remove outliers in Impressions"
   ]
  },
  {
   "cell_type": "markdown",
   "metadata": {},
   "source": [
    "We made 4 models using RandomForestRegressor, KNeighborsRegressor, DecisionTreeRegressor, and LogisticRegression to find the best model for our data. Although the DecisionTreeRegressor scored slightly higher than the RandomForestRegressor, we decided to still use the RandomForestRegressor because this model yielded less variance than the DecisionTreeRegressor."
   ]
  },
  {
   "cell_type": "code",
   "execution_count": 8,
   "metadata": {
    "scrolled": true
   },
   "outputs": [
    {
     "name": "stderr",
     "output_type": "stream",
     "text": [
      "C:\\Users\\bl4ck\\anaconda3\\lib\\site-packages\\sklearn\\linear_model\\_logistic.py:762: ConvergenceWarning: lbfgs failed to converge (status=1):\n",
      "STOP: TOTAL NO. of ITERATIONS REACHED LIMIT.\n",
      "\n",
      "Increase the number of iterations (max_iter) or scale the data as shown in:\n",
      "    https://scikit-learn.org/stable/modules/preprocessing.html\n",
      "Please also refer to the documentation for alternative solver options:\n",
      "    https://scikit-learn.org/stable/modules/linear_model.html#logistic-regression\n",
      "  n_iter_i = _check_optimize_result(\n"
     ]
    },
    {
     "data": {
      "text/html": [
       "<div>\n",
       "<style scoped>\n",
       "    .dataframe tbody tr th:only-of-type {\n",
       "        vertical-align: middle;\n",
       "    }\n",
       "\n",
       "    .dataframe tbody tr th {\n",
       "        vertical-align: top;\n",
       "    }\n",
       "\n",
       "    .dataframe thead th {\n",
       "        text-align: right;\n",
       "    }\n",
       "</style>\n",
       "<table border=\"1\" class=\"dataframe\">\n",
       "  <thead>\n",
       "    <tr style=\"text-align: right;\">\n",
       "      <th></th>\n",
       "      <th>Model</th>\n",
       "    </tr>\n",
       "    <tr>\n",
       "      <th>Score</th>\n",
       "      <th></th>\n",
       "    </tr>\n",
       "  </thead>\n",
       "  <tbody>\n",
       "    <tr>\n",
       "      <th>0.013078</th>\n",
       "      <td>Logistic Regression</td>\n",
       "    </tr>\n",
       "    <tr>\n",
       "      <th>0.836775</th>\n",
       "      <td>KNN</td>\n",
       "    </tr>\n",
       "    <tr>\n",
       "      <th>0.966089</th>\n",
       "      <td>Random Forest</td>\n",
       "    </tr>\n",
       "    <tr>\n",
       "      <th>0.999785</th>\n",
       "      <td>Decision Tree</td>\n",
       "    </tr>\n",
       "  </tbody>\n",
       "</table>\n",
       "</div>"
      ],
      "text/plain": [
       "                        Model\n",
       "Score                        \n",
       "0.013078  Logistic Regression\n",
       "0.836775                  KNN\n",
       "0.966089        Random Forest\n",
       "0.999785        Decision Tree"
      ]
     },
     "execution_count": 8,
     "metadata": {},
     "output_type": "execute_result"
    }
   ],
   "source": [
    "X_train, X_test, Y_train, Y_test = train_test_split(df2[['Spend', 'NumberInterestGroups', \"CountryCode\", \"Duration\"]],\n",
    "                                                    df2.Impressions, test_size=0.25)\n",
    "\n",
    "random_forest = RandomForestRegressor(n_estimators=100)\n",
    "random_forest.fit(X_train, Y_train)\n",
    "\n",
    "Y_prediction = random_forest.predict(X_test)\n",
    "\n",
    "random_forest.score(X_train, Y_train)\n",
    "score_random_forest = random_forest.score(X_train, Y_train)\n",
    "\n",
    "knn = KNeighborsRegressor(n_neighbors = 3) \n",
    "knn.fit(X_train, Y_train)  \n",
    "Y_pred = knn.predict(X_test)  \n",
    "score_knn = knn.score(X_train, Y_train)\n",
    "\n",
    "decision_tree = DecisionTreeRegressor()\n",
    "decision_tree.fit(X_train, Y_train)  \n",
    "Y_pred = decision_tree.predict(X_test)  \n",
    "score_decision_tree = decision_tree.score(X_train, Y_train)\n",
    "\n",
    "logreg = LogisticRegression()\n",
    "logreg.fit(X_train, Y_train)\n",
    "Y_pred = logreg.predict(X_test)\n",
    "score_log = logreg.score(X_train, Y_train)\n",
    "\n",
    "\n",
    "results = pd.DataFrame({\n",
    "    'Model': ['KNN',\n",
    "              'Logistic Regression', \n",
    "              'Random Forest', \n",
    "              'Decision Tree'],\n",
    "    'Score': [score_knn, score_log, score_random_forest, score_decision_tree]})\n",
    "result_df = results.sort_values(by='Score')\n",
    "result_df = result_df.set_index('Score')\n",
    "result_df"
   ]
  },
  {
   "cell_type": "markdown",
   "metadata": {},
   "source": [
    "We found the relative importance of each feature. Spend ended up being significantly more important than all the other features"
   ]
  },
  {
   "cell_type": "code",
   "execution_count": 9,
   "metadata": {
    "scrolled": true
   },
   "outputs": [
    {
     "data": {
      "text/plain": [
       "{'Spend': 0.8246835939647975,\n",
       " 'CountryCode': 0.07485155552158153,\n",
       " 'Duration': 0.07920949244422432,\n",
       " 'NumberInterestGroups': 0.021255358069396657}"
      ]
     },
     "execution_count": 9,
     "metadata": {},
     "output_type": "execute_result"
    }
   ],
   "source": [
    "X_train, X_test, y_train, y_test = train_test_split(df2.drop(['Impressions'], axis=1), df2.Impressions, test_size=0.10)\n",
    "reg = RandomForestRegressor()\n",
    "reg.fit(X_train, y_train)\n",
    "dict(zip(df2.drop(['Impressions'], axis=1).columns, reg.feature_importances_))"
   ]
  },
  {
   "cell_type": "markdown",
   "metadata": {},
   "source": [
    "We attempted a gridsearch to find the best parameter for RandomForestRegressor. We could have done more parameters, but unfortunately the code would have run for too long, thus unable being to provide a viable result. For effiency sake, we will have to use 100 estimators."
   ]
  },
  {
   "cell_type": "code",
   "execution_count": 10,
   "metadata": {
    "scrolled": true
   },
   "outputs": [
    {
     "data": {
      "text/plain": [
       "{'n_estimators': 1000}"
      ]
     },
     "execution_count": 10,
     "metadata": {},
     "output_type": "execute_result"
    }
   ],
   "source": [
    "X_train, X_test, y_train, y_test = train_test_split(df2.drop(['Impressions'], axis=1), df2.Impressions, test_size=0.1)\n",
    "parameters = { \n",
    "    \"n_estimators\": [100, 200, 400, 1000]\n",
    "}\n",
    "\n",
    "reg = GridSearchCV(estimator=RandomForestRegressor(), param_grid=parameters)\n",
    "reg.fit(X_train, y_train)\n",
    "reg.best_params_"
   ]
  },
  {
   "cell_type": "markdown",
   "metadata": {},
   "source": [
    "This is our improved model using the features NumberInterstGroups, CountryCode, Duration, and Spend. We used PolynomialFeatures to transform spend, since spend is significantly more important than the other features. For the other features, we used SimpleImputer to fill in all the possible null values with 0"
   ]
  },
  {
   "cell_type": "code",
   "execution_count": 11,
   "metadata": {
    "scrolled": true
   },
   "outputs": [
    {
     "data": {
      "text/plain": [
       "0.9690361247992525"
      ]
     },
     "execution_count": 11,
     "metadata": {},
     "output_type": "execute_result"
    }
   ],
   "source": [
    "num_feat = ['NumberInterestGroups', \"CountryCode\", \"Duration\"]\n",
    "num_transformer = Pipeline(steps=[\n",
    "    ('scaler', SimpleImputer(strategy='constant', fill_value=0)),\n",
    "])\n",
    "\n",
    "\n",
    "preproc = ColumnTransformer(transformers=[('spend', PolynomialFeatures(degree=2), [\"Spend\"]),\n",
    "                                          (\"num\", num_transformer, num_feat)\n",
    "                                         ])\n",
    "\n",
    "pl = Pipeline([('preprocessor', preproc), ('reg', RandomForestRegressor(n_estimators=100))])\n",
    "\n",
    "pl.fit(df2.drop(\"Impressions\", axis=1), df2[\"Impressions\"])\n",
    "\n",
    "pl.score(df2.drop('Impressions', axis=1), df2.Impressions)"
   ]
  },
  {
   "cell_type": "markdown",
   "metadata": {},
   "source": [
    "We found scores in 100 models with different sample of data to determine the variance of our improved model"
   ]
  },
  {
   "cell_type": "code",
   "execution_count": 12,
   "metadata": {
    "scrolled": true
   },
   "outputs": [],
   "source": [
    "out = []\n",
    "for _ in range(100):\n",
    "    X_tr, X_ts, y_tr, y_ts = train_test_split(df2[['Spend', 'NumberInterestGroups', \"CountryCode\", \"Duration\"]], \n",
    "                                              df2.Impressions,\n",
    "                                              test_size = 0.25)\n",
    "    pl.fit(X_tr, y_tr)\n",
    "    out.append(pl.score(X_ts, y_ts))"
   ]
  },
  {
   "cell_type": "code",
   "execution_count": 13,
   "metadata": {
    "scrolled": true
   },
   "outputs": [
    {
     "data": {
      "text/plain": [
       "<matplotlib.axes._subplots.AxesSubplot at 0x2347c964220>"
      ]
     },
     "execution_count": 13,
     "metadata": {},
     "output_type": "execute_result"
    },
    {
     "data": {
      "image/png": "[encoded data removed]",
      "text/plain": [
       "<Figure size 432x288 with 1 Axes>"
      ]
     },
     "metadata": {
      "image/png": {
       "height": 263,
       "width": 388
      },
      "needs_background": "light"
     },
     "output_type": "display_data"
    }
   ],
   "source": [
    "pd.Series(out).plot(kind='hist', title='scores in 100 model builds')"
   ]
  },
  {
   "cell_type": "code",
   "execution_count": 14,
   "metadata": {},
   "outputs": [
    {
     "data": {
      "text/plain": [
       "0.7693457282371488"
      ]
     },
     "execution_count": 14,
     "metadata": {},
     "output_type": "execute_result"
    }
   ],
   "source": [
    "np.mean(out)"
   ]
  },
  {
   "cell_type": "markdown",
   "metadata": {},
   "source": [
    "### Fairness Evaluation"
   ]
  },
  {
   "cell_type": "markdown",
   "metadata": {},
   "source": [
    "An interesting subset of our data is the upperbound (90% quantile of the data) and the lowerbound (10% quantile of the data) of Spend. We performed a permutation test to see if our final model fairly predicts the data when the we use data with Spend thatis within the lower bound and data with Spend that is within the upper bound.  \n",
    "\n",
    "**Null Hypothesis**: Our improved model fairly predicts across lower bound Spend and upper bound Spend  \n",
    "**Alternative Hypothesis**: Our improved model does not fairly predict across lower bound Spend and upper bound Spend"
   ]
  },
  {
   "cell_type": "code",
   "execution_count": 15,
   "metadata": {
    "scrolled": true
   },
   "outputs": [
    {
     "name": "stderr",
     "output_type": "stream",
     "text": [
      "C:\\Users\\bl4ck\\anaconda3\\lib\\site-packages\\sklearn\\compose\\_column_transformer.py:437: FutureWarning: Given feature/column names or counts do not match the ones for the data given during fit. This will fail from v0.24.\n",
      "  warnings.warn(\"Given feature/column names or counts do not match \"\n",
      "C:\\Users\\bl4ck\\anaconda3\\lib\\site-packages\\sklearn\\compose\\_column_transformer.py:437: FutureWarning: Given feature/column names or counts do not match the ones for the data given during fit. This will fail from v0.24.\n",
      "  warnings.warn(\"Given feature/column names or counts do not match \"\n"
     ]
    },
    {
     "data": {
      "text/plain": [
       "0.0"
      ]
     },
     "execution_count": 15,
     "metadata": {},
     "output_type": "execute_result"
    }
   ],
   "source": [
    "n_repetitions = 1000\n",
    "perm_test = df2.copy()\n",
    "lower_bound = perm_test.Spend.quantile(0.10)\n",
    "upper_bound = perm_test.Spend.quantile(0.90)\n",
    "\n",
    "top_10 = perm_test.loc[perm_test.Spend >= upper_bound]\n",
    "bottom_10 = perm_test.loc[perm_test.Spend <= lower_bound]\n",
    "    \n",
    "upper_preds = pl.predict(top_10.drop(['Impressions'], axis=1))\n",
    "lower_preds = pl.predict(bottom_10.drop(['Impressions'], axis=1))\n",
    "    \n",
    "upper_rmse = np.sqrt(np.mean((upper_preds - top_10.Impressions)**2))\n",
    "lower_rmse = np.sqrt(np.mean((lower_preds - bottom_10.Impressions)**2))\n",
    "    \n",
    "obs_stat = abs(upper_rmse - lower_rmse)\n",
    "\n",
    "import warnings\n",
    "warnings.filterwarnings('ignore')\n",
    "diffs = []\n",
    "for _ in range(n_repetitions):\n",
    "    \n",
    "    shuffled_col = (\n",
    "        perm_test['Spend']\n",
    "        .sample(replace=False, frac=1)\n",
    "        .reset_index(drop=True)\n",
    "    )\n",
    "    \n",
    "    shuffled = (\n",
    "        perm_test\n",
    "        .assign(**{\n",
    "            'Spend': shuffled_col,\n",
    "        })\n",
    "    )\n",
    "    \n",
    "    top_10 = shuffled.loc[shuffled.Spend >= upper_bound]\n",
    "    bottom_10 = shuffled.loc[shuffled.Spend <= lower_bound]\n",
    "    \n",
    "    upper_preds = pl.predict(top_10.drop(['Impressions'], axis=1))\n",
    "    lower_preds = pl.predict(bottom_10.drop(['Impressions'], axis=1))\n",
    "    \n",
    "    upper_rmse = np.sqrt(np.mean((upper_preds - top_10.Impressions)**2))\n",
    "    lower_rmse = np.sqrt(np.mean((lower_preds - bottom_10.Impressions)**2))\n",
    "    \n",
    "    test_stat = abs(upper_rmse - lower_rmse)\n",
    "    diffs.append(test_stat)\n",
    "\n",
    "np.mean(np.array(diffs) < obs_stat)"
   ]
  },
  {
   "cell_type": "code",
   "execution_count": 16,
   "metadata": {},
   "outputs": [
    {
     "data": {
      "image/png": "[encoded data removed]",
      "text/plain": [
       "<Figure size 432x288 with 1 Axes>"
      ]
     },
     "metadata": {
      "image/png": {
       "height": 276,
       "width": 376
      },
      "needs_background": "light"
     },
     "output_type": "display_data"
    }
   ],
   "source": [
    "pval = np.mean(np.array(diffs) > obs_stat)\n",
    "pd.Series(np.array(diffs)).plot(kind='hist',density=True,alpha=0.8,title='p-value: %f'%pval)\n",
    "plt.scatter(obs_stat,0,color='red',s=40);"
   ]
  },
  {
   "cell_type": "markdown",
   "metadata": {
    "scrolled": true
   },
   "source": [
    "Since the observed value does not even lie within the histogram, we reject the null hypothesis. This suggests our improved model does not predict accurately across the lower and upper bounds of Spend."
   ]
  },
  {
   "cell_type": "code",
   "execution_count": 17,
   "metadata": {},
   "outputs": [
    {
     "data": {
      "text/plain": [
       "487862.15326733753"
      ]
     },
     "execution_count": 17,
     "metadata": {},
     "output_type": "execute_result"
    }
   ],
   "source": [
    "obs_stat"
   ]
  },
  {
   "cell_type": "code",
   "execution_count": null,
   "metadata": {},
   "outputs": [],
   "source": []
  }
 ],
 "metadata": {
  "kernelspec": {
   "display_name": "Python 3",
   "language": "python",
   "name": "python3"
  },
  "language_info": {
   "codemirror_mode": {
    "name": "ipython",
    "version": 3
   },
   "file_extension": ".py",
   "mimetype": "text/x-python",
   "name": "python",
   "nbconvert_exporter": "python",
   "pygments_lexer": "ipython3",
   "version": "3.8.3"
  }
 },
 "nbformat": 4,
 "nbformat_minor": 2
}
